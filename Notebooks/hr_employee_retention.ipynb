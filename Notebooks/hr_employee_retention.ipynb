{
 "cells": [
  {
   "attachments": {},
   "cell_type": "markdown",
   "metadata": {},
   "source": [
    "# **Predict Employee Attrition**\n",
    "---"
   ]
  },
  {
   "attachments": {},
   "cell_type": "markdown",
   "metadata": {},
   "source": [
    "# Import Library"
   ]
  },
  {
   "cell_type": "code",
   "execution_count": 1,
   "metadata": {},
   "outputs": [],
   "source": [
    "# Data manipulation\n",
    "import numpy as np\n",
    "import pandas as pd\n",
    "import datetime as dt\n",
    "\n",
    "# Data visualization\n",
    "import matplotlib as mpl\n",
    "import matplotlib.pyplot as plt\n",
    "import seaborn as sns\n",
    "\n",
    "import warnings\n",
    "warnings.filterwarnings('ignore')"
   ]
  },
  {
   "cell_type": "code",
   "execution_count": 2,
   "metadata": {},
   "outputs": [],
   "source": [
    "pd.set_option('display.max_columns', None)\n",
    "pd.set_option('display.max_rows', None)"
   ]
  },
  {
   "attachments": {},
   "cell_type": "markdown",
   "metadata": {},
   "source": [
    "# Read Data"
   ]
  },
  {
   "cell_type": "code",
   "execution_count": 3,
   "metadata": {},
   "outputs": [],
   "source": [
    "# Read data\n",
    "link = 'https://raw.githubusercontent.com/sabirinID/Predicting-Employee-Attrition/main/Dataset/hr_employee_retention_dataset.csv'\n",
    "df = pd.read_csv(link, index_col=0)"
   ]
  },
  {
   "cell_type": "code",
   "execution_count": 4,
   "metadata": {},
   "outputs": [
    {
     "data": {
      "text/html": [
       "<div>\n",
       "<style scoped>\n",
       "    .dataframe tbody tr th:only-of-type {\n",
       "        vertical-align: middle;\n",
       "    }\n",
       "\n",
       "    .dataframe tbody tr th {\n",
       "        vertical-align: top;\n",
       "    }\n",
       "\n",
       "    .dataframe thead th {\n",
       "        text-align: right;\n",
       "    }\n",
       "</style>\n",
       "<table border=\"1\" class=\"dataframe\">\n",
       "  <thead>\n",
       "    <tr style=\"text-align: right;\">\n",
       "      <th></th>\n",
       "      <th>EnterpriseID</th>\n",
       "      <th>StatusPernikahan</th>\n",
       "      <th>JenisKelamin</th>\n",
       "      <th>StatusKepegawaian</th>\n",
       "      <th>Pekerjaan</th>\n",
       "      <th>JenjangKarir</th>\n",
       "      <th>PerformancePegawai</th>\n",
       "      <th>AsalDaerah</th>\n",
       "      <th>HiringPlatform</th>\n",
       "      <th>SkorSurveyEngagement</th>\n",
       "      <th>SkorKepuasanPegawai</th>\n",
       "      <th>JumlahKeikutsertaanProjek</th>\n",
       "      <th>JumlahKeterlambatanSebulanTerakhir</th>\n",
       "      <th>JumlahKetidakhadiran</th>\n",
       "      <th>NomorHP</th>\n",
       "      <th>Email</th>\n",
       "      <th>TingkatPendidikan</th>\n",
       "      <th>PernahBekerja</th>\n",
       "      <th>IkutProgramLOP</th>\n",
       "      <th>AlasanResign</th>\n",
       "      <th>TanggalLahir</th>\n",
       "      <th>TanggalHiring</th>\n",
       "      <th>TanggalPenilaianKaryawan</th>\n",
       "      <th>TanggalResign</th>\n",
       "    </tr>\n",
       "    <tr>\n",
       "      <th>Username</th>\n",
       "      <th></th>\n",
       "      <th></th>\n",
       "      <th></th>\n",
       "      <th></th>\n",
       "      <th></th>\n",
       "      <th></th>\n",
       "      <th></th>\n",
       "      <th></th>\n",
       "      <th></th>\n",
       "      <th></th>\n",
       "      <th></th>\n",
       "      <th></th>\n",
       "      <th></th>\n",
       "      <th></th>\n",
       "      <th></th>\n",
       "      <th></th>\n",
       "      <th></th>\n",
       "      <th></th>\n",
       "      <th></th>\n",
       "      <th></th>\n",
       "      <th></th>\n",
       "      <th></th>\n",
       "      <th></th>\n",
       "      <th></th>\n",
       "    </tr>\n",
       "  </thead>\n",
       "  <tbody>\n",
       "    <tr>\n",
       "      <th>truthfulHawk9</th>\n",
       "      <td>106029</td>\n",
       "      <td>Menikah</td>\n",
       "      <td>Wanita</td>\n",
       "      <td>FullTime</td>\n",
       "      <td>Software Engineer (Back End)</td>\n",
       "      <td>Senior_level</td>\n",
       "      <td>Biasa</td>\n",
       "      <td>Jakarta Selatan</td>\n",
       "      <td>Indeed</td>\n",
       "      <td>4</td>\n",
       "      <td>3.0</td>\n",
       "      <td>0.0</td>\n",
       "      <td>0.0</td>\n",
       "      <td>10.0</td>\n",
       "      <td>+6285919278xxx</td>\n",
       "      <td>truthfulHawk9561@yahoo.com</td>\n",
       "      <td>Sarjana</td>\n",
       "      <td>1</td>\n",
       "      <td>NaN</td>\n",
       "      <td>NaN</td>\n",
       "      <td>1954-09-21</td>\n",
       "      <td>2012-07-02</td>\n",
       "      <td>2020-1-17</td>\n",
       "      <td>-</td>\n",
       "    </tr>\n",
       "    <tr>\n",
       "      <th>scornfulCoati1</th>\n",
       "      <td>110699</td>\n",
       "      <td>Belum_menikah</td>\n",
       "      <td>Pria</td>\n",
       "      <td>Outsource</td>\n",
       "      <td>Software Engineer (Front End)</td>\n",
       "      <td>Senior_level</td>\n",
       "      <td>Kurang</td>\n",
       "      <td>Jakarta Barat</td>\n",
       "      <td>Google_Search</td>\n",
       "      <td>4</td>\n",
       "      <td>4.0</td>\n",
       "      <td>0.0</td>\n",
       "      <td>5.0</td>\n",
       "      <td>16.0</td>\n",
       "      <td>+6285585054xxx</td>\n",
       "      <td>scornfulCoati1438@icloud.com</td>\n",
       "      <td>Magister</td>\n",
       "      <td>1</td>\n",
       "      <td>NaN</td>\n",
       "      <td>toxic_culture</td>\n",
       "      <td>1983-09-02</td>\n",
       "      <td>2012-04-02</td>\n",
       "      <td>2019-04-12</td>\n",
       "      <td>2020-9-27</td>\n",
       "    </tr>\n",
       "    <tr>\n",
       "      <th>guiltyMoth4</th>\n",
       "      <td>100621</td>\n",
       "      <td>Lainnya</td>\n",
       "      <td>Pria</td>\n",
       "      <td>FullTime</td>\n",
       "      <td>Software Engineer (Back End)</td>\n",
       "      <td>Freshgraduate_program</td>\n",
       "      <td>Biasa</td>\n",
       "      <td>Jakarta Utara</td>\n",
       "      <td>Indeed</td>\n",
       "      <td>1</td>\n",
       "      <td>2.0</td>\n",
       "      <td>0.0</td>\n",
       "      <td>4.0</td>\n",
       "      <td>9.0</td>\n",
       "      <td>+6289723429xxx</td>\n",
       "      <td>guiltyMoth4337@icloud.com</td>\n",
       "      <td>Sarjana</td>\n",
       "      <td>1</td>\n",
       "      <td>NaN</td>\n",
       "      <td>masih_bekerja</td>\n",
       "      <td>1967-04-19</td>\n",
       "      <td>2014-07-07</td>\n",
       "      <td>2020-1-31</td>\n",
       "      <td>-</td>\n",
       "    </tr>\n",
       "    <tr>\n",
       "      <th>pluckyMuesli3</th>\n",
       "      <td>106452</td>\n",
       "      <td>Menikah</td>\n",
       "      <td>Pria</td>\n",
       "      <td>FullTime</td>\n",
       "      <td>Software Engineer (Front End)</td>\n",
       "      <td>Freshgraduate_program</td>\n",
       "      <td>Bagus</td>\n",
       "      <td>Jakarta Timur</td>\n",
       "      <td>Indeed</td>\n",
       "      <td>4</td>\n",
       "      <td>3.0</td>\n",
       "      <td>0.0</td>\n",
       "      <td>0.0</td>\n",
       "      <td>11.0</td>\n",
       "      <td>+6281346215xxx</td>\n",
       "      <td>pluckyMuesli3961@icloud.com</td>\n",
       "      <td>Magister</td>\n",
       "      <td>1</td>\n",
       "      <td>1.0</td>\n",
       "      <td>jam_kerja</td>\n",
       "      <td>1974-01-07</td>\n",
       "      <td>2011-01-10</td>\n",
       "      <td>2016-01-10</td>\n",
       "      <td>2014-9-24</td>\n",
       "    </tr>\n",
       "    <tr>\n",
       "      <th>brainyRice8</th>\n",
       "      <td>106245</td>\n",
       "      <td>Bercerai</td>\n",
       "      <td>Wanita</td>\n",
       "      <td>FullTime</td>\n",
       "      <td>Product Design (UI &amp; UX)</td>\n",
       "      <td>Freshgraduate_program</td>\n",
       "      <td>Biasa</td>\n",
       "      <td>Jakarta Pusat</td>\n",
       "      <td>CareerBuilder</td>\n",
       "      <td>3</td>\n",
       "      <td>3.0</td>\n",
       "      <td>6.0</td>\n",
       "      <td>0.0</td>\n",
       "      <td>6.0</td>\n",
       "      <td>+6289935357xxx</td>\n",
       "      <td>brainyRice8142@icloud.com</td>\n",
       "      <td>Sarjana</td>\n",
       "      <td>1</td>\n",
       "      <td>NaN</td>\n",
       "      <td>masih_bekerja</td>\n",
       "      <td>1979-04-04</td>\n",
       "      <td>2015-2-16</td>\n",
       "      <td>2020-02-11</td>\n",
       "      <td>-</td>\n",
       "    </tr>\n",
       "  </tbody>\n",
       "</table>\n",
       "</div>"
      ],
      "text/plain": [
       "                EnterpriseID StatusPernikahan JenisKelamin StatusKepegawaian   \n",
       "Username                                                                       \n",
       "truthfulHawk9         106029          Menikah       Wanita          FullTime  \\\n",
       "scornfulCoati1        110699    Belum_menikah         Pria         Outsource   \n",
       "guiltyMoth4           100621          Lainnya         Pria          FullTime   \n",
       "pluckyMuesli3         106452          Menikah         Pria          FullTime   \n",
       "brainyRice8           106245         Bercerai       Wanita          FullTime   \n",
       "\n",
       "                                    Pekerjaan           JenjangKarir   \n",
       "Username                                                               \n",
       "truthfulHawk9    Software Engineer (Back End)           Senior_level  \\\n",
       "scornfulCoati1  Software Engineer (Front End)           Senior_level   \n",
       "guiltyMoth4      Software Engineer (Back End)  Freshgraduate_program   \n",
       "pluckyMuesli3   Software Engineer (Front End)  Freshgraduate_program   \n",
       "brainyRice8          Product Design (UI & UX)  Freshgraduate_program   \n",
       "\n",
       "               PerformancePegawai       AsalDaerah HiringPlatform   \n",
       "Username                                                            \n",
       "truthfulHawk9               Biasa  Jakarta Selatan         Indeed  \\\n",
       "scornfulCoati1             Kurang    Jakarta Barat  Google_Search   \n",
       "guiltyMoth4                 Biasa    Jakarta Utara         Indeed   \n",
       "pluckyMuesli3               Bagus    Jakarta Timur         Indeed   \n",
       "brainyRice8                 Biasa    Jakarta Pusat  CareerBuilder   \n",
       "\n",
       "                SkorSurveyEngagement  SkorKepuasanPegawai   \n",
       "Username                                                    \n",
       "truthfulHawk9                      4                  3.0  \\\n",
       "scornfulCoati1                     4                  4.0   \n",
       "guiltyMoth4                        1                  2.0   \n",
       "pluckyMuesli3                      4                  3.0   \n",
       "brainyRice8                        3                  3.0   \n",
       "\n",
       "                JumlahKeikutsertaanProjek  JumlahKeterlambatanSebulanTerakhir   \n",
       "Username                                                                        \n",
       "truthfulHawk9                         0.0                                 0.0  \\\n",
       "scornfulCoati1                        0.0                                 5.0   \n",
       "guiltyMoth4                           0.0                                 4.0   \n",
       "pluckyMuesli3                         0.0                                 0.0   \n",
       "brainyRice8                           6.0                                 0.0   \n",
       "\n",
       "                JumlahKetidakhadiran         NomorHP   \n",
       "Username                                               \n",
       "truthfulHawk9                   10.0  +6285919278xxx  \\\n",
       "scornfulCoati1                  16.0  +6285585054xxx   \n",
       "guiltyMoth4                      9.0  +6289723429xxx   \n",
       "pluckyMuesli3                   11.0  +6281346215xxx   \n",
       "brainyRice8                      6.0  +6289935357xxx   \n",
       "\n",
       "                                       Email TingkatPendidikan PernahBekerja   \n",
       "Username                                                                       \n",
       "truthfulHawk9     truthfulHawk9561@yahoo.com           Sarjana             1  \\\n",
       "scornfulCoati1  scornfulCoati1438@icloud.com          Magister             1   \n",
       "guiltyMoth4        guiltyMoth4337@icloud.com           Sarjana             1   \n",
       "pluckyMuesli3    pluckyMuesli3961@icloud.com          Magister             1   \n",
       "brainyRice8        brainyRice8142@icloud.com           Sarjana             1   \n",
       "\n",
       "                IkutProgramLOP   AlasanResign TanggalLahir TanggalHiring   \n",
       "Username                                                                   \n",
       "truthfulHawk9              NaN            NaN   1954-09-21    2012-07-02  \\\n",
       "scornfulCoati1             NaN  toxic_culture   1983-09-02    2012-04-02   \n",
       "guiltyMoth4                NaN  masih_bekerja   1967-04-19    2014-07-07   \n",
       "pluckyMuesli3              1.0      jam_kerja   1974-01-07    2011-01-10   \n",
       "brainyRice8                NaN  masih_bekerja   1979-04-04     2015-2-16   \n",
       "\n",
       "               TanggalPenilaianKaryawan TanggalResign  \n",
       "Username                                               \n",
       "truthfulHawk9                 2020-1-17             -  \n",
       "scornfulCoati1               2019-04-12     2020-9-27  \n",
       "guiltyMoth4                   2020-1-31             -  \n",
       "pluckyMuesli3                2016-01-10     2014-9-24  \n",
       "brainyRice8                  2020-02-11             -  "
      ]
     },
     "execution_count": 4,
     "metadata": {},
     "output_type": "execute_result"
    }
   ],
   "source": [
    "df.sample(5)"
   ]
  },
  {
   "attachments": {},
   "cell_type": "markdown",
   "metadata": {},
   "source": [
    "# Data Understanding"
   ]
  },
  {
   "attachments": {},
   "cell_type": "markdown",
   "metadata": {},
   "source": [
    "## Features Definition"
   ]
  },
  {
   "attachments": {},
   "cell_type": "markdown",
   "metadata": {},
   "source": [
    "| Feature Name           | Feature Description                              |\n",
    "|------------------------|--------------------------------------------------|\n",
    "| EnterpriseID           | Enterprise ID                                    |"
   ]
  },
  {
   "attachments": {},
   "cell_type": "markdown",
   "metadata": {},
   "source": [
    "## Dimensions of the DataFrame"
   ]
  },
  {
   "cell_type": "code",
   "execution_count": 5,
   "metadata": {},
   "outputs": [
    {
     "data": {
      "text/plain": [
       "(287, 24)"
      ]
     },
     "execution_count": 5,
     "metadata": {},
     "output_type": "execute_result"
    }
   ],
   "source": [
    "df.shape"
   ]
  },
  {
   "cell_type": "code",
   "execution_count": 6,
   "metadata": {},
   "outputs": [
    {
     "name": "stdout",
     "output_type": "stream",
     "text": [
      "Dataset ini memiliki dimensi data, yaitu\n",
      "Jumlah baris: 287\n",
      "Jumlah kolom: 24\n"
     ]
    }
   ],
   "source": [
    "print('Dataset ini memiliki dimensi data, yaitu')\n",
    "print('Jumlah baris: {}'.format(df.shape[0]))\n",
    "print('Jumlah kolom: {}'.format(df.shape[1]))"
   ]
  },
  {
   "attachments": {},
   "cell_type": "markdown",
   "metadata": {},
   "source": [
    "## Data Types of the Features"
   ]
  },
  {
   "cell_type": "code",
   "execution_count": 7,
   "metadata": {},
   "outputs": [
    {
     "name": "stdout",
     "output_type": "stream",
     "text": [
      "<class 'pandas.core.frame.DataFrame'>\n",
      "Index: 287 entries, spiritedPorpoise3 to puzzledFish5\n",
      "Data columns (total 24 columns):\n",
      " #   Column                              Non-Null Count  Dtype  \n",
      "---  ------                              --------------  -----  \n",
      " 0   EnterpriseID                        287 non-null    int64  \n",
      " 1   StatusPernikahan                    287 non-null    object \n",
      " 2   JenisKelamin                        287 non-null    object \n",
      " 3   StatusKepegawaian                   287 non-null    object \n",
      " 4   Pekerjaan                           287 non-null    object \n",
      " 5   JenjangKarir                        287 non-null    object \n",
      " 6   PerformancePegawai                  287 non-null    object \n",
      " 7   AsalDaerah                          287 non-null    object \n",
      " 8   HiringPlatform                      287 non-null    object \n",
      " 9   SkorSurveyEngagement                287 non-null    int64  \n",
      " 10  SkorKepuasanPegawai                 282 non-null    float64\n",
      " 11  JumlahKeikutsertaanProjek           284 non-null    float64\n",
      " 12  JumlahKeterlambatanSebulanTerakhir  286 non-null    float64\n",
      " 13  JumlahKetidakhadiran                281 non-null    float64\n",
      " 14  NomorHP                             287 non-null    object \n",
      " 15  Email                               287 non-null    object \n",
      " 16  TingkatPendidikan                   287 non-null    object \n",
      " 17  PernahBekerja                       287 non-null    object \n",
      " 18  IkutProgramLOP                      29 non-null     float64\n",
      " 19  AlasanResign                        221 non-null    object \n",
      " 20  TanggalLahir                        287 non-null    object \n",
      " 21  TanggalHiring                       287 non-null    object \n",
      " 22  TanggalPenilaianKaryawan            287 non-null    object \n",
      " 23  TanggalResign                       287 non-null    object \n",
      "dtypes: float64(5), int64(2), object(17)\n",
      "memory usage: 56.1+ KB\n"
     ]
    }
   ],
   "source": [
    "# Data information\n",
    "df.info()"
   ]
  },
  {
   "attachments": {},
   "cell_type": "markdown",
   "metadata": {},
   "source": [
    "🔎 Observasi\n",
    "- Tipe data: float64, int64, dan object.\n",
    "- Fitur `EnterpriseID` hanya berisi identifikasi unik untuk setiap karyawan tanpa memberikan informasi tambahan yang relevan untuk analisis, sehingga dapat dihapus."
   ]
  },
  {
   "attachments": {},
   "cell_type": "markdown",
   "metadata": {},
   "source": []
  }
 ],
 "metadata": {
  "kernelspec": {
   "display_name": "Python 3 (ipykernel)",
   "language": "python",
   "name": "python3"
  },
  "language_info": {
   "codemirror_mode": {
    "name": "ipython",
    "version": 3
   },
   "file_extension": ".py",
   "mimetype": "text/x-python",
   "name": "python",
   "nbconvert_exporter": "python",
   "pygments_lexer": "ipython3",
   "version": "3.10.9"
  },
  "orig_nbformat": 4
 },
 "nbformat": 4,
 "nbformat_minor": 2
}
